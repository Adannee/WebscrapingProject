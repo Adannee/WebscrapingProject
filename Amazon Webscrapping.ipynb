{
 "cells": [
  {
   "cell_type": "code",
   "execution_count": 58,
   "id": "dc442430",
   "metadata": {},
   "outputs": [],
   "source": [
    "from bs4 import BeautifulSoup\n",
    "import requests\n",
    "import datetime\n",
    "import time"
   ]
  },
  {
   "cell_type": "code",
   "execution_count": 77,
   "id": "5a9b2263",
   "metadata": {},
   "outputs": [
    {
     "name": "stdout",
     "output_type": "stream",
     "text": [
      "\n",
      "            Fitbit Charge 5 Advanced Fitness & Health Tracker with Built-in GPS, Stress Management Tools, Sleep Tracking, 24/7 Heart Rate and More, Lunar White/Soft Gold, One Size (S &L Bands Included)\n",
      "           \n",
      "\n",
      "                $149.95\n",
      "               \n",
      "\n",
      "\n",
      "                Fitbit\n",
      "               \n",
      "\n",
      "\n",
      "\n",
      "                Lunar White/Soft Gold\n",
      "               \n",
      "\n",
      "\n",
      "\n",
      "                3.87 Volts\n",
      "               \n",
      "\n"
     ]
    }
   ],
   "source": [
    "URL = 'https://www.amazon.com/Fitbit-Advanced-Management-Tracking-Included/dp/B09BXDZ9BD/ref=sr_1_1_sspa?crid=2NF85TB88ZIM5&keywords=fitness%2Btracker%2Bwatch&qid=1668355519&sprefix=%2Caps%2C143&sr=8-1-spons&sp_csd=d2lkZ2V0TmFtZT1zcF9hdGY&psc=1'\n",
    "headers = {\"User-Agent\": \"Mozilla/5.0 (Windows NT 10.0; Win64; x64) AppleWebKit/537.36 (KHTML, like Gecko) Chrome/107.0.0.0 Safari/537.36\", \"Accept-Encoding\":\"gzip, deflate\", \"Accept\": \"text/html,application/xhtml+xml,application/xml;q=0.9,image/avif,image/webp,image/apng,*/*;q=0.8,application/signed-exchange;v=b3;q=0.9\", \"DNT\":\"1\",\"Connection\":\"close\", \"Upgrade-Insecure-Requests\":\"1\"}\n",
    "\n",
    "page = requests.get(URL, headers=headers)\n",
    "\n",
    "soup1 = BeautifulSoup(page.content, 'html.parser')\n",
    "soup2 = BeautifulSoup(soup1.prettify(), 'html.parser')\n",
    "\n",
    "        \n",
    "title = soup2.find(id ='productTitle').get_text()\n",
    "\n",
    "p_list = soup2.find(id ='apex_desktop')\n",
    "price = p_list.find('span', {'class' :'a-offscreen'}).get_text()\n",
    "\n",
    "b_list= soup2.find('tr', {'class' :'a-spacing-small po-brand'})\n",
    "brand = b_list.find('td', {'class' : 'a-span9'}).get_text()\n",
    "\n",
    "c_list = soup2.find('tr', {'class' :'a-spacing-small po-color'})\n",
    "color = c_list.find('td', {'class' : 'a-span9'}).get_text()\n",
    "\n",
    "i_list = soup2.find('tr', {'class' : 'a-spacing-small po-input_voltage'})\n",
    "voltage = i_list.find('td', {'class' : 'a-span9'}).get_text()\n",
    "\n",
    "\n",
    "print(title)\n",
    "print(price)\n",
    "print(brand)\n",
    "print(color)\n",
    "print(voltage)\n"
   ]
  },
  {
   "cell_type": "code",
   "execution_count": 78,
   "id": "718e73b7",
   "metadata": {},
   "outputs": [
    {
     "name": "stdout",
     "output_type": "stream",
     "text": [
      "Fitbit Charge 5 Advanced Fitness & Health Tracker\n",
      "$149.95\n",
      "Fitbit\n",
      "Lunar White/Soft Gold\n",
      "3.87 Volts\n"
     ]
    }
   ],
   "source": [
    "title = title.strip()[0:49]\n",
    "price = price.strip()\n",
    "brand = brand.strip()\n",
    "color = color.strip()\n",
    "voltage = voltage.strip()\n",
    "\n",
    "print(title)\n",
    "print(price)\n",
    "print(brand)\n",
    "print(color)\n",
    "print(voltage)"
   ]
  },
  {
   "cell_type": "code",
   "execution_count": 79,
   "id": "f3359b40",
   "metadata": {},
   "outputs": [
    {
     "name": "stdout",
     "output_type": "stream",
     "text": [
      "2022-11-13\n"
     ]
    }
   ],
   "source": [
    "import datetime\n",
    "\n",
    "today = datetime.date.today()\n",
    "\n",
    "print(today)"
   ]
  },
  {
   "cell_type": "code",
   "execution_count": null,
   "id": "4a8db1ce",
   "metadata": {},
   "outputs": [],
   "source": [
    "import csv\n",
    "\n",
    "header = ['Date','Title', 'Price', 'Brand', 'Color', 'Voltage']\n",
    "\n",
    "data = [today,title, price, brand, color, voltage]\n",
    "\n",
    "with open ('amaazon_scrap.csv', 'w', newline= '', encoding = 'UTF8')as f:\n",
    "    writer = csv.writer(f)\n",
    "    writer.writerow(header)\n",
    "    writer.writerow(data)"
   ]
  },
  {
   "cell_type": "code",
   "execution_count": null,
   "id": "fc58b925",
   "metadata": {},
   "outputs": [],
   "source": [
    "import pandas as pan\n",
    "\n",
    "read = pan.read_csv(r'C:\\Users\\ivyca\\amaazon_scrap.csv')\n",
    "\n",
    "print(read)\n"
   ]
  },
  {
   "cell_type": "code",
   "execution_count": 83,
   "id": "630509b7",
   "metadata": {},
   "outputs": [],
   "source": [
    "with open ('amaazon_scrap.csv', 'a+', newline ='', encoding= 'UTF8')as f:\n",
    "    writer = csv.writer(f)\n",
    "    writer.writerow(data)"
   ]
  },
  {
   "cell_type": "code",
   "execution_count": 86,
   "id": "4a574fbb",
   "metadata": {},
   "outputs": [],
   "source": [
    "def price_list():\n",
    "    URL = 'https://www.amazon.com/Fitbit-Advanced-Management-Tracking-Included/dp/B09BXDZ9BD/ref=sr_1_1_sspa?crid=2NF85TB88ZIM5&keywords=fitness%2Btracker%2Bwatch&qid=1668355519&sprefix=%2Caps%2C143&sr=8-1-spons&sp_csd=d2lkZ2V0TmFtZT1zcF9hdGY&psc=1'\n",
    "    headers = {\"User-Agent\": \"Mozilla/5.0 (Windows NT 10.0; Win64; x64) AppleWebKit/537.36 (KHTML, like Gecko) Chrome/107.0.0.0 Safari/537.36\", \"Accept-Encoding\":\"gzip, deflate\", \"Accept\": \"text/html,application/xhtml+xml,application/xml;q=0.9,image/avif,image/webp,image/apng,*/*;q=0.8,application/signed-exchange;v=b3;q=0.9\", \"DNT\":\"1\",\"Connection\":\"close\", \"Upgrade-Insecure-Requests\":\"1\"}\n",
    "\n",
    "    page = requests.get(URL, headers=headers)\n",
    "\n",
    "    soup1 = BeautifulSoup(page.content, 'html.parser')\n",
    "    soup2 = BeautifulSoup(soup1.prettify(), 'html.parser')\n",
    "\n",
    "        \n",
    "    title = soup2.find(id ='productTitle').get_text()\n",
    "\n",
    "    p_list = soup2.find(id ='apex_desktop')\n",
    "    price = p_list.find('span', {'class' :'a-offscreen'}).get_text()\n",
    "\n",
    "    b_list= soup2.find('tr', {'class' :'a-spacing-small po-brand'})\n",
    "    brand = b_list.find('td', {'class' : 'a-span9'}).get_text()\n",
    "  \n",
    "    c_list = soup2.find('tr', {'class' :'a-spacing-small po-color'})\n",
    "    color = c_list.find('td', {'class' : 'a-span9'}).get_text()\n",
    "\n",
    "    i_list = soup2.find('tr', {'class' : 'a-spacing-small po-input_voltage'})\n",
    "    voltage = i_list.find('td', {'class' : 'a-span9'}).get_text()\n",
    "    \n",
    "    title = title.strip()[0:49]\n",
    "    price = price.strip()\n",
    "    brand = brand.strip()\n",
    "    color = color.strip()\n",
    "    voltage = voltage.strip()\n",
    "    \n",
    "    import datetime\n",
    "\n",
    "    today = datetime.date.today()\n",
    "    \n",
    "    header = ['Date','Title', 'Price', 'Brand', 'Color', 'Voltage']\n",
    "\n",
    "    data = [today,title, price, brand, color, voltage]\n",
    "    \n",
    "    with open('amaazon_scarp.csv', 'a+', newline ='', encoding = 'UTF8') as f:\n",
    "        writer = csv.writer(f)\n",
    "        writer.writerow(data)\n",
    "\n",
    "\n"
   ]
  },
  {
   "cell_type": "code",
   "execution_count": null,
   "id": "cd02fd2f",
   "metadata": {},
   "outputs": [],
   "source": [
    "while(True):\n",
    "    price_list()\n",
    "    time.sleep(2)"
   ]
  },
  {
   "cell_type": "code",
   "execution_count": null,
   "id": "0f5f0d56",
   "metadata": {},
   "outputs": [],
   "source": [
    "import pandas as pan\n",
    "\n",
    "read = pan.read_csv(r'C:\\Users\\ivyca\\amaazon_scrap.csv')\n",
    "\n",
    "print(read)"
   ]
  }
 ],
 "metadata": {
  "kernelspec": {
   "display_name": "Python 3 (ipykernel)",
   "language": "python",
   "name": "python3"
  },
  "language_info": {
   "codemirror_mode": {
    "name": "ipython",
    "version": 3
   },
   "file_extension": ".py",
   "mimetype": "text/x-python",
   "name": "python",
   "nbconvert_exporter": "python",
   "pygments_lexer": "ipython3",
   "version": "3.9.13"
  }
 },
 "nbformat": 4,
 "nbformat_minor": 5
}
